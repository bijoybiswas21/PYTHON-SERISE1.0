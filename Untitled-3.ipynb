{
 "cells": [
  {
   "cell_type": "code",
   "execution_count": null,
   "id": "6784a9c9",
   "metadata": {},
   "outputs": [],
   "source": [
    "# Import Required Libraries\n",
    "import pandas as pd"
   ]
  },
  {
   "cell_type": "code",
   "execution_count": null,
   "id": "08acabba",
   "metadata": {},
   "outputs": [],
   "source": [
    "# Create Sample DataFrames\n",
    "# Define two sample DataFrames with overlapping and non-overlapping indices and columns\n",
    "df1 = pd.DataFrame({\n",
    "    'A': [1, 2, 3],\n",
    "    'B': [4, 5, 6]\n",
    "}, index=['row1', 'row2', 'row3'])\n",
    "\n",
    "df2 = pd.DataFrame({\n",
    "    'A': [7, 8],\n",
    "    'C': [9, 10]\n",
    "}, index=['row1', 'row4'])"
   ]
  },
  {
   "cell_type": "code",
   "execution_count": null,
   "id": "50d67eb3",
   "metadata": {},
   "outputs": [],
   "source": [
    "# Add Two DataFrames\n",
    "# Perform addition of the two DataFrames using the '+' operator\n",
    "result_add = df1 + df2\n",
    "\n",
    "# Alternatively, use the add() method\n",
    "result_add_method = df1.add(df2)"
   ]
  },
  {
   "cell_type": "code",
   "execution_count": null,
   "id": "02bd98f1",
   "metadata": {},
   "outputs": [],
   "source": [
    "# Handle Missing Values During Addition\n",
    "# Demonstrate how to handle missing values using the fill_value parameter in the add() method\n",
    "result_with_fill = df1.add(df2, fill_value=0)\n",
    "\n",
    "# Display the results\n",
    "print(\"Addition using '+' operator:\\n\", result_add)\n",
    "print(\"\\nAddition using add() method:\\n\", result_add_method)\n",
    "print(\"\\nAddition with fill_value=0:\\n\", result_with_fill)"
   ]
  }
 ],
 "metadata": {
  "kernelspec": {
   "display_name": "Python 3",
   "language": "python",
   "name": "python3"
  },
  "language_info": {
   "name": "python",
   "version": "3.13.2"
  }
 },
 "nbformat": 4,
 "nbformat_minor": 5
}
